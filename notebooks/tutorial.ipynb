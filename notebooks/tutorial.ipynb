{
 "cells": [
  {
   "cell_type": "markdown",
   "metadata": {},
   "source": [
    "# DataJoint Elements for Electrode Localization\n",
    "\n",
    "#### Open-source data pipeline for localizing Neuropixels electrodes within the Allen brain atlas - [Allen Mouse Common Coordinate Framework (CCF)](https://atlas.brain-map.org/)\n",
    "\n",
    "Welcome to the tutorial for the DataJoint Element for electrode localization. This tutorial aims to provide a comprehensive understanding of the open-source data pipeline created using `element-electrode-localization`.\n",
    "\n",
    "![flowchart](../images/flowchart.svg)\n",
    "\n",
    "This package is designed to seamlessly ingest and track **electrode localization** data using DataJoint. \n",
    "\n",
    "![flowchart](../images/pipeline.svg)\n",
    "\n",
    "By the end of this tutorial, you will have a clear grasp on setting up  `element-electrode-localization` into your specific research projects and lab.\n",
    "\n",
    "### Prerequisites\n",
    "Please see the [datajoint tutorials GitHub repository](https://github.com/datajoint/datajoint-tutorials/tree/main) before proceeding.\n",
    "\n",
    "#### **Tutorial Overview**\n",
    "+ Setup\n",
    "+ *Activate* the DataJoint pipeline.\n",
    "+ *Insert* example data into subject and session tables.\n",
    "+ *Description* of the main tables.\n",
    "\n",
    "### **Setup**\n",
    "This tutorial describes the DataJoint tables that track the electrode localization data acquired with Neuropixels probes. The goal is to store, track, and manage all metadata associated with electrode localization and position probes, aligning to the Common Coordinate Framework (CCF) space within the Allen brain atlas.\n",
    "\n",
    "The results of this Element can be combined with **other modalities** to create a complete, customizable data pipeline for your specific lab or study. For instance, you can combine `element-electrode-localization` with `element-array-ephys` and `element-event` to characterize the neural activity during specific stimulus events."
   ]
  },
  {
   "cell_type": "markdown",
   "metadata": {},
   "source": [
    "Let's start this tutorial by importing the packages necessary to run the notebook."
   ]
  },
  {
   "cell_type": "code",
   "execution_count": 1,
   "metadata": {},
   "outputs": [],
   "source": [
    "import datajoint as dj\n",
    "from pathlib import Path\n",
    "import yaml"
   ]
  },
  {
   "cell_type": "markdown",
   "metadata": {},
   "source": [
    "If the tutorial is run in Codespaces, a private, local database server is created and made available for you. This is where we will insert and store our processed results. Let's connect to the database server."
   ]
  },
  {
   "cell_type": "code",
   "execution_count": 2,
   "metadata": {},
   "outputs": [
    {
     "name": "stderr",
     "output_type": "stream",
     "text": [
      "[2024-01-25 04:33:02,907][INFO]: Connecting root@fakeservices.datajoint.io:3306\n",
      "[2024-01-25 04:33:02,914][INFO]: Connected root@fakeservices.datajoint.io:3306\n"
     ]
    },
    {
     "data": {
      "text/plain": [
       "DataJoint connection (connected) root@fakeservices.datajoint.io:3306"
      ]
     },
     "execution_count": 2,
     "metadata": {},
     "output_type": "execute_result"
    }
   ],
   "source": [
    "dj.conn()"
   ]
  },
  {
   "cell_type": "markdown",
   "metadata": {},
   "source": [
    "### **Activate the DataJoint Pipeline**"
   ]
  },
  {
   "cell_type": "markdown",
   "metadata": {},
   "source": [
    "This tutorial presumes that the `element-electrode-localization` has been pre-configured and instantiated, with the database linked downstream to pre-existing `subject` and `session` tables. Please refer to the [`tutorial_pipeline.py`](./tutorial_pipeline.py) for the source code."
   ]
  },
  {
   "cell_type": "markdown",
   "metadata": {},
   "source": [
    "Now, we will proceed to import the essential schemas required to construct this data pipeline, with particular attention to the primary component: `electrode_localization`."
   ]
  },
  {
   "cell_type": "code",
   "execution_count": 11,
   "metadata": {},
   "outputs": [],
   "source": [
    "from tutorial_pipeline import (\n",
    "    subject,\n",
    "    session,\n",
    "    ephys,\n",
    "    electrode_localization,\n",
    "    coordinate_framework as ccf,\n",
    ")"
   ]
  },
  {
   "cell_type": "markdown",
   "metadata": {},
   "source": [
    "We can represent the tables in the `electrode-localization` schema as well as some of the upstream dependencies to `session` and `subject` schemas as a diagram.\n"
   ]
  },
  {
   "cell_type": "code",
   "execution_count": 12,
   "metadata": {},
   "outputs": [
    {
     "data": {
      "image/svg+xml": [
       "<svg xmlns=\"http://www.w3.org/2000/svg\" xmlns:xlink=\"http://www.w3.org/1999/xlink\" width=\"739pt\" height=\"437pt\" viewBox=\"0.00 0.00 739.38 437.00\">\n",
       "<g id=\"graph0\" class=\"graph\" transform=\"scale(1 1) rotate(0) translate(4 433)\">\n",
       "<title>%3</title>\n",
       "<polygon fill=\"white\" stroke=\"transparent\" points=\"-4,4 -4,-433 735.38,-433 735.38,4 -4,4\"/>\n",
       "<!-- 20 -->\n",
       "<g id=\"node1\" class=\"node\">\n",
       "<title>20</title>\n",
       "<ellipse fill=\"#ff8800\" fill-opacity=\"0.501961\" stroke=\"#ff8800\" stroke-opacity=\"0.501961\" cx=\"576.38\" cy=\"-80.5\" rx=\"2\" ry=\"2\"/>\n",
       "<text text-anchor=\"middle\" x=\"576.38\" y=\"-80.2\" font-family=\"arial\" font-size=\"1.00\" fill=\"#ff8800\" fill-opacity=\"0.501961\">20</text>\n",
       "</g>\n",
       "<!-- coordinate_framework.ParentBrainRegion -->\n",
       "<g id=\"node3\" class=\"node\">\n",
       "<title>coordinate_framework.ParentBrainRegion</title>\n",
       "<g id=\"a_node3\"><a xlink:title=\"→ coordinate_framework.BrainRegionAnnotation.BrainRegion\r------------------------------\r→ coordinate_framework.BrainRegionAnnotation.BrainRegion.proj(parent=&quot;acronym&quot;)\r\">\n",
       "<polygon fill=\"#000000\" fill-opacity=\"0.125490\" stroke=\"transparent\" points=\"692.88,-35 495.88,-35 495.88,0 692.88,0 692.88,-35\"/>\n",
       "<text text-anchor=\"middle\" x=\"594.38\" y=\"-15\" font-family=\"arial\" font-size=\"10.00\">coordinate_framework.ParentBrainRegion</text>\n",
       "</a>\n",
       "</g>\n",
       "</g>\n",
       "<!-- 20&#45;&gt;coordinate_framework.ParentBrainRegion -->\n",
       "<g id=\"edge1\" class=\"edge\">\n",
       "<title>20-&gt;coordinate_framework.ParentBrainRegion</title>\n",
       "<path fill=\"none\" stroke=\"#000000\" stroke-width=\"0.75\" stroke-dasharray=\"5,2\" stroke-opacity=\"0.250980\" d=\"M576.69,-78.44C578.19,-73.35 584.8,-50.95 589.5,-35.03\"/>\n",
       "</g>\n",
       "<!-- coordinate_framework.CCF.Voxel -->\n",
       "<g id=\"node2\" class=\"node\">\n",
       "<title>coordinate_framework.CCF.Voxel</title>\n",
       "<g id=\"a_node2\"><a xlink:title=\"→ coordinate_framework.CCF\rx                    \ry                    \rz                    \rINDEX (y, z)\r\">\n",
       "<polygon fill=\"transparent\" stroke=\"transparent\" points=\"469.88,-208 306.88,-208 306.88,-189 469.88,-189 469.88,-208\"/>\n",
       "<text text-anchor=\"start\" x=\"314.88\" y=\"-197\" font-family=\"arial\" text-decoration=\"underline\" font-size=\"10.00\">coordinate_framework.CCF.Voxel</text>\n",
       "</a>\n",
       "</g>\n",
       "</g>\n",
       "<!-- electrode_localization.ElectrodePosition.Electrode -->\n",
       "<g id=\"node4\" class=\"node\">\n",
       "<title>electrode_localization.ElectrodePosition.Electrode</title>\n",
       "<g id=\"a_node4\"><a xlink:title=\"→ electrode_localization.ElectrodePosition\r→ electrode_localization.probe.ProbeType.Electrode\r------------------------------\r→ coordinate_framework.CCF.Voxel\r\">\n",
       "<polygon fill=\"transparent\" stroke=\"transparent\" points=\"261.38,-145 27.37,-145 27.37,-126 261.38,-126 261.38,-145\"/>\n",
       "<text text-anchor=\"middle\" x=\"144.38\" y=\"-133\" font-family=\"arial\" font-size=\"10.00\">electrode_localization.ElectrodePosition.Electrode</text>\n",
       "</a>\n",
       "</g>\n",
       "</g>\n",
       "<!-- coordinate_framework.CCF.Voxel&#45;&gt;electrode_localization.ElectrodePosition.Electrode -->\n",
       "<g id=\"edge2\" class=\"edge\">\n",
       "<title>coordinate_framework.CCF.Voxel-&gt;electrode_localization.ElectrodePosition.Electrode</title>\n",
       "<path fill=\"none\" stroke=\"#000000\" stroke-width=\"0.75\" stroke-dasharray=\"5,2\" stroke-opacity=\"0.250980\" d=\"M354.19,-188.95C307.76,-177.35 225.23,-156.71 178.72,-145.09\"/>\n",
       "</g>\n",
       "<!-- coordinate_framework.BrainRegionAnnotation.Voxel -->\n",
       "<g id=\"node12\" class=\"node\">\n",
       "<title>coordinate_framework.BrainRegionAnnotation.Voxel</title>\n",
       "<g id=\"a_node12\"><a xlink:title=\"→ coordinate_framework.BrainRegionAnnotation.BrainRegion\r→ coordinate_framework.CCF.Voxel\r\">\n",
       "<polygon fill=\"transparent\" stroke=\"transparent\" points=\"538.38,-90 296.38,-90 296.38,-71 538.38,-71 538.38,-90\"/>\n",
       "<text text-anchor=\"middle\" x=\"417.38\" y=\"-78\" font-family=\"arial\" font-size=\"10.00\">coordinate_framework.BrainRegionAnnotation.Voxel</text>\n",
       "</a>\n",
       "</g>\n",
       "</g>\n",
       "<!-- coordinate_framework.CCF.Voxel&#45;&gt;coordinate_framework.BrainRegionAnnotation.Voxel -->\n",
       "<g id=\"edge3\" class=\"edge\">\n",
       "<title>coordinate_framework.CCF.Voxel-&gt;coordinate_framework.BrainRegionAnnotation.Voxel</title>\n",
       "<path fill=\"none\" stroke=\"#000000\" stroke-width=\"0.75\" stroke-opacity=\"0.250980\" d=\"M390.55,-188.78C395.96,-167.18 409.91,-111.38 415.25,-90\"/>\n",
       "</g>\n",
       "<!-- electrode_localization.ProbeInsertion -->\n",
       "<g id=\"node5\" class=\"node\">\n",
       "<title>electrode_localization.ProbeInsertion</title>\n",
       "<g id=\"a_node5\"><a xlink:title=\"→ session.Session\rinsertion_number     \r------------------------------\r→ electrode_localization.probe.Probe\r\">\n",
       "<polygon fill=\"#00ff00\" fill-opacity=\"0.188235\" stroke=\"#00ff00\" stroke-opacity=\"0.188235\" points=\"251.88,-287 36.88,-287 36.88,-252 251.88,-252 251.88,-287\"/>\n",
       "<text text-anchor=\"middle\" x=\"144.38\" y=\"-266.4\" font-family=\"arial\" font-size=\"12.00\" fill=\"darkgreen\">electrode_localization.ProbeInsertion</text>\n",
       "</a>\n",
       "</g>\n",
       "</g>\n",
       "<!-- electrode_localization.ElectrodePosition -->\n",
       "<g id=\"node10\" class=\"node\">\n",
       "<title>electrode_localization.ElectrodePosition</title>\n",
       "<g id=\"a_node10\"><a xlink:title=\"→ electrode_localization.ProbeInsertion\r→ coordinate_framework.CCF\r\">\n",
       "<ellipse fill=\"#00007f\" fill-opacity=\"0.250980\" stroke=\"#00007f\" stroke-opacity=\"0.250980\" cx=\"144.38\" cy=\"-198.5\" rx=\"144.25\" ry=\"17.5\"/>\n",
       "<text text-anchor=\"middle\" x=\"144.38\" y=\"-195.4\" font-family=\"arial\" font-size=\"12.00\" fill=\"#00007f\" fill-opacity=\"0.627451\">electrode_localization.ElectrodePosition</text>\n",
       "</a>\n",
       "</g>\n",
       "</g>\n",
       "<!-- electrode_localization.ProbeInsertion&#45;&gt;electrode_localization.ElectrodePosition -->\n",
       "<g id=\"edge4\" class=\"edge\">\n",
       "<title>electrode_localization.ProbeInsertion-&gt;electrode_localization.ElectrodePosition</title>\n",
       "<path fill=\"none\" stroke=\"#000000\" stroke-width=\"0.75\" stroke-opacity=\"0.250980\" d=\"M144.38,-251.8C144.38,-240.95 144.38,-226.87 144.38,-216.05\"/>\n",
       "</g>\n",
       "<!-- coordinate_framework.CCF -->\n",
       "<g id=\"node6\" class=\"node\">\n",
       "<title>coordinate_framework.CCF</title>\n",
       "<g id=\"a_node6\"><a xlink:title=\"ccf_id               \r------------------------------\rccf_version          \rccf_resolution       \rccf_description=&quot;&quot;   \r\">\n",
       "<polygon fill=\"#000000\" fill-opacity=\"0.125490\" stroke=\"transparent\" points=\"456.88,-287 319.88,-287 319.88,-252 456.88,-252 456.88,-287\"/>\n",
       "<text text-anchor=\"start\" x=\"327.88\" y=\"-268\" font-family=\"arial\" text-decoration=\"underline\" font-size=\"10.00\">coordinate_framework.CCF</text>\n",
       "</a>\n",
       "</g>\n",
       "</g>\n",
       "<!-- coordinate_framework.CCF&#45;&gt;coordinate_framework.CCF.Voxel -->\n",
       "<g id=\"edge5\" class=\"edge\">\n",
       "<title>coordinate_framework.CCF-&gt;coordinate_framework.CCF.Voxel</title>\n",
       "<path fill=\"none\" stroke=\"#000000\" stroke-width=\"0.75\" stroke-opacity=\"0.250980\" d=\"M388.38,-251.8C388.38,-238.08 388.38,-219.19 388.38,-208.27\"/>\n",
       "</g>\n",
       "<!-- coordinate_framework.BrainRegionAnnotation -->\n",
       "<g id=\"node7\" class=\"node\">\n",
       "<title>coordinate_framework.BrainRegionAnnotation</title>\n",
       "<g id=\"a_node7\"><a xlink:title=\"→ coordinate_framework.CCF\r\">\n",
       "<polygon fill=\"#000000\" fill-opacity=\"0.125490\" stroke=\"transparent\" points=\"702.88,-216 487.88,-216 487.88,-181 702.88,-181 702.88,-216\"/>\n",
       "<text text-anchor=\"middle\" x=\"595.38\" y=\"-196\" font-family=\"arial\" font-size=\"10.00\">coordinate_framework.BrainRegionAnnotation</text>\n",
       "</a>\n",
       "</g>\n",
       "</g>\n",
       "<!-- coordinate_framework.CCF&#45;&gt;coordinate_framework.BrainRegionAnnotation -->\n",
       "<g id=\"edge6\" class=\"edge\">\n",
       "<title>coordinate_framework.CCF-&gt;coordinate_framework.BrainRegionAnnotation</title>\n",
       "<path fill=\"none\" stroke=\"#000000\" stroke-width=\"2\" stroke-opacity=\"0.250980\" d=\"M437.96,-251.97C470.61,-241.09 513.2,-226.89 545.84,-216.01\"/>\n",
       "</g>\n",
       "<!-- coordinate_framework.CCF&#45;&gt;electrode_localization.ElectrodePosition -->\n",
       "<g id=\"edge7\" class=\"edge\">\n",
       "<title>coordinate_framework.CCF-&gt;electrode_localization.ElectrodePosition</title>\n",
       "<path fill=\"none\" stroke=\"#000000\" stroke-width=\"0.75\" stroke-opacity=\"0.250980\" d=\"M329.93,-251.97C290.03,-240.69 237.55,-225.85 198.58,-214.83\"/>\n",
       "</g>\n",
       "<!-- coordinate_framework.BrainRegionAnnotation.BrainRegion -->\n",
       "<g id=\"node11\" class=\"node\">\n",
       "<title>coordinate_framework.BrainRegionAnnotation.BrainRegion</title>\n",
       "<g id=\"a_node11\"><a xlink:title=\"→ coordinate_framework.BrainRegionAnnotation\racronym              \r------------------------------\rregion_name          \rregion_id=null       \rcolor_code=null      \r\">\n",
       "<polygon fill=\"transparent\" stroke=\"transparent\" points=\"731.38,-145 459.38,-145 459.38,-126 731.38,-126 731.38,-145\"/>\n",
       "<text text-anchor=\"start\" x=\"467.38\" y=\"-134\" font-family=\"arial\" text-decoration=\"underline\" font-size=\"10.00\">coordinate_framework.BrainRegionAnnotation.BrainRegion</text>\n",
       "</a>\n",
       "</g>\n",
       "</g>\n",
       "<!-- coordinate_framework.BrainRegionAnnotation&#45;&gt;coordinate_framework.BrainRegionAnnotation.BrainRegion -->\n",
       "<g id=\"edge8\" class=\"edge\">\n",
       "<title>coordinate_framework.BrainRegionAnnotation-&gt;coordinate_framework.BrainRegionAnnotation.BrainRegion</title>\n",
       "<path fill=\"none\" stroke=\"#000000\" stroke-width=\"0.75\" stroke-opacity=\"0.250980\" d=\"M595.38,-180.83C595.38,-169.26 595.38,-154.32 595.38,-145.08\"/>\n",
       "</g>\n",
       "<!-- session.Session -->\n",
       "<g id=\"node8\" class=\"node\">\n",
       "<title>session.Session</title>\n",
       "<g id=\"a_node8\"><a xlink:title=\"→ subject.Subject\rsession_datetime     \r\">\n",
       "<polygon fill=\"#00ff00\" fill-opacity=\"0.188235\" stroke=\"#00ff00\" stroke-opacity=\"0.188235\" points=\"196.38,-358 92.38,-358 92.38,-323 196.38,-323 196.38,-358\"/>\n",
       "<text text-anchor=\"start\" x=\"100.38\" y=\"-338.4\" font-family=\"arial\" text-decoration=\"underline\" font-size=\"12.00\" fill=\"darkgreen\">session.Session</text>\n",
       "</a>\n",
       "</g>\n",
       "</g>\n",
       "<!-- session.Session&#45;&gt;electrode_localization.ProbeInsertion -->\n",
       "<g id=\"edge9\" class=\"edge\">\n",
       "<title>session.Session-&gt;electrode_localization.ProbeInsertion</title>\n",
       "<path fill=\"none\" stroke=\"#000000\" stroke-width=\"0.75\" stroke-opacity=\"0.250980\" d=\"M144.38,-322.8C144.38,-311.95 144.38,-297.87 144.38,-287.05\"/>\n",
       "</g>\n",
       "<!-- subject.Subject -->\n",
       "<g id=\"node9\" class=\"node\">\n",
       "<title>subject.Subject</title>\n",
       "<g id=\"a_node9\"><a xlink:title=\"subject              \r------------------------------\rsubject_nickname=&quot;&quot;  \rsex                  \rsubject_birth_date   \rsubject_description=&quot;&quot; \r\">\n",
       "<polygon fill=\"#00ff00\" fill-opacity=\"0.188235\" stroke=\"#00ff00\" stroke-opacity=\"0.188235\" points=\"193.38,-429 95.38,-429 95.38,-394 193.38,-394 193.38,-429\"/>\n",
       "<text text-anchor=\"start\" x=\"103.38\" y=\"-409.4\" font-family=\"arial\" text-decoration=\"underline\" font-size=\"12.00\" fill=\"darkgreen\">subject.Subject</text>\n",
       "</a>\n",
       "</g>\n",
       "</g>\n",
       "<!-- subject.Subject&#45;&gt;session.Session -->\n",
       "<g id=\"edge10\" class=\"edge\">\n",
       "<title>subject.Subject-&gt;session.Session</title>\n",
       "<path fill=\"none\" stroke=\"#000000\" stroke-width=\"0.75\" stroke-opacity=\"0.250980\" d=\"M144.38,-393.8C144.38,-382.95 144.38,-368.87 144.38,-358.05\"/>\n",
       "</g>\n",
       "<!-- electrode_localization.ElectrodePosition&#45;&gt;electrode_localization.ElectrodePosition.Electrode -->\n",
       "<g id=\"edge11\" class=\"edge\">\n",
       "<title>electrode_localization.ElectrodePosition-&gt;electrode_localization.ElectrodePosition.Electrode</title>\n",
       "<path fill=\"none\" stroke=\"#000000\" stroke-width=\"0.75\" stroke-opacity=\"0.250980\" d=\"M144.38,-180.83C144.38,-169.26 144.38,-154.32 144.38,-145.08\"/>\n",
       "</g>\n",
       "<!-- coordinate_framework.BrainRegionAnnotation.BrainRegion&#45;&gt;20 -->\n",
       "<g id=\"edge12\" class=\"edge\">\n",
       "<title>coordinate_framework.BrainRegionAnnotation.BrainRegion-&gt;20</title>\n",
       "<path fill=\"none\" stroke=\"#000000\" stroke-width=\"0.75\" stroke-dasharray=\"5,2\" stroke-opacity=\"0.250980\" d=\"M592.24,-125.75C587.52,-112.58 578.91,-88.58 576.84,-82.78\"/>\n",
       "</g>\n",
       "<!-- coordinate_framework.BrainRegionAnnotation.BrainRegion&#45;&gt;coordinate_framework.ParentBrainRegion -->\n",
       "<g id=\"edge13\" class=\"edge\">\n",
       "<title>coordinate_framework.BrainRegionAnnotation.BrainRegion-&gt;coordinate_framework.ParentBrainRegion</title>\n",
       "<path fill=\"none\" stroke=\"#000000\" stroke-width=\"2\" stroke-opacity=\"0.250980\" d=\"M595.3,-125.78C595.13,-106.6 594.74,-60.47 594.52,-35.4\"/>\n",
       "</g>\n",
       "<!-- coordinate_framework.BrainRegionAnnotation.BrainRegion&#45;&gt;coordinate_framework.BrainRegionAnnotation.Voxel -->\n",
       "<g id=\"edge14\" class=\"edge\">\n",
       "<title>coordinate_framework.BrainRegionAnnotation.BrainRegion-&gt;coordinate_framework.BrainRegionAnnotation.Voxel</title>\n",
       "<path fill=\"none\" stroke=\"#000000\" stroke-width=\"0.75\" stroke-opacity=\"0.250980\" d=\"M566.78,-125.98C533.66,-116.12 479.41,-99.97 446.2,-90.08\"/>\n",
       "</g>\n",
       "</g>\n",
       "</svg>"
      ],
      "text/plain": [
       "<datajoint.diagram.Diagram at 0x7feb9f67a9d0>"
      ]
     },
     "execution_count": 12,
     "metadata": {},
     "output_type": "execute_result"
    }
   ],
   "source": [
    "(\n",
    "    dj.Diagram(subject.Subject)\n",
    "    + dj.Diagram(session.Session)\n",
    "    + dj.Diagram(electrode_localization)\n",
    "    + dj.Diagram(ccf)\n",
    ")"
   ]
  },
  {
   "cell_type": "markdown",
   "metadata": {},
   "source": [
    "As evident from the diagram, this data pipeline encompasses tables associated with electrode localization data. A few tables, such as `subject.Subject` and `session.Session`, while important for a complete pipeline, fall outside the scope of the `element-electrode-localization` tutorial, and will therefore, not be explored extensively here. The primary focus of this tutorial will be on the `electrode-localization` schema."
   ]
  },
  {
   "cell_type": "code",
   "execution_count": 13,
   "metadata": {},
   "outputs": [
    {
     "data": {
      "image/svg+xml": [
       "<svg xmlns=\"http://www.w3.org/2000/svg\" xmlns:xlink=\"http://www.w3.org/1999/xlink\" width=\"739pt\" height=\"295pt\" viewBox=\"0.00 0.00 739.38 295.00\">\n",
       "<g id=\"graph0\" class=\"graph\" transform=\"scale(1 1) rotate(0) translate(4 291)\">\n",
       "<title>%3</title>\n",
       "<polygon fill=\"white\" stroke=\"transparent\" points=\"-4,4 -4,-291 735.38,-291 735.38,4 -4,4\"/>\n",
       "<!-- 24 -->\n",
       "<g id=\"node1\" class=\"node\">\n",
       "<title>24</title>\n",
       "<ellipse fill=\"#ff8800\" fill-opacity=\"0.501961\" stroke=\"#ff8800\" stroke-opacity=\"0.501961\" cx=\"576.38\" cy=\"-80.5\" rx=\"2\" ry=\"2\"/>\n",
       "<text text-anchor=\"middle\" x=\"576.38\" y=\"-80.2\" font-family=\"arial\" font-size=\"1.00\" fill=\"#ff8800\" fill-opacity=\"0.501961\">24</text>\n",
       "</g>\n",
       "<!-- coordinate_framework.ParentBrainRegion -->\n",
       "<g id=\"node3\" class=\"node\">\n",
       "<title>coordinate_framework.ParentBrainRegion</title>\n",
       "<g id=\"a_node3\"><a xlink:title=\"→ coordinate_framework.BrainRegionAnnotation.BrainRegion\r------------------------------\r→ coordinate_framework.BrainRegionAnnotation.BrainRegion.proj(parent=&quot;acronym&quot;)\r\">\n",
       "<polygon fill=\"#000000\" fill-opacity=\"0.125490\" stroke=\"transparent\" points=\"692.88,-35 495.88,-35 495.88,0 692.88,0 692.88,-35\"/>\n",
       "<text text-anchor=\"middle\" x=\"594.38\" y=\"-15\" font-family=\"arial\" font-size=\"10.00\">coordinate_framework.ParentBrainRegion</text>\n",
       "</a>\n",
       "</g>\n",
       "</g>\n",
       "<!-- 24&#45;&gt;coordinate_framework.ParentBrainRegion -->\n",
       "<g id=\"edge1\" class=\"edge\">\n",
       "<title>24-&gt;coordinate_framework.ParentBrainRegion</title>\n",
       "<path fill=\"none\" stroke=\"#000000\" stroke-width=\"0.75\" stroke-dasharray=\"5,2\" stroke-opacity=\"0.250980\" d=\"M576.69,-78.44C578.19,-73.35 584.8,-50.95 589.5,-35.03\"/>\n",
       "</g>\n",
       "<!-- coordinate_framework.CCF.Voxel -->\n",
       "<g id=\"node2\" class=\"node\">\n",
       "<title>coordinate_framework.CCF.Voxel</title>\n",
       "<g id=\"a_node2\"><a xlink:title=\"→ coordinate_framework.CCF\rx                    \ry                    \rz                    \rINDEX (y, z)\r\">\n",
       "<polygon fill=\"transparent\" stroke=\"transparent\" points=\"469.88,-208 306.88,-208 306.88,-189 469.88,-189 469.88,-208\"/>\n",
       "<text text-anchor=\"start\" x=\"314.88\" y=\"-197\" font-family=\"arial\" text-decoration=\"underline\" font-size=\"10.00\">coordinate_framework.CCF.Voxel</text>\n",
       "</a>\n",
       "</g>\n",
       "</g>\n",
       "<!-- electrode_localization.ElectrodePosition.Electrode -->\n",
       "<g id=\"node4\" class=\"node\">\n",
       "<title>electrode_localization.ElectrodePosition.Electrode</title>\n",
       "<g id=\"a_node4\"><a xlink:title=\"→ electrode_localization.ElectrodePosition\r→ electrode_localization.probe.ProbeType.Electrode\r------------------------------\r→ coordinate_framework.CCF.Voxel\r\">\n",
       "<polygon fill=\"transparent\" stroke=\"transparent\" points=\"261.38,-145 27.37,-145 27.37,-126 261.38,-126 261.38,-145\"/>\n",
       "<text text-anchor=\"middle\" x=\"144.38\" y=\"-133\" font-family=\"arial\" font-size=\"10.00\">electrode_localization.ElectrodePosition.Electrode</text>\n",
       "</a>\n",
       "</g>\n",
       "</g>\n",
       "<!-- coordinate_framework.CCF.Voxel&#45;&gt;electrode_localization.ElectrodePosition.Electrode -->\n",
       "<g id=\"edge2\" class=\"edge\">\n",
       "<title>coordinate_framework.CCF.Voxel-&gt;electrode_localization.ElectrodePosition.Electrode</title>\n",
       "<path fill=\"none\" stroke=\"#000000\" stroke-width=\"0.75\" stroke-dasharray=\"5,2\" stroke-opacity=\"0.250980\" d=\"M354.19,-188.95C307.76,-177.35 225.23,-156.71 178.72,-145.09\"/>\n",
       "</g>\n",
       "<!-- coordinate_framework.BrainRegionAnnotation.Voxel -->\n",
       "<g id=\"node10\" class=\"node\">\n",
       "<title>coordinate_framework.BrainRegionAnnotation.Voxel</title>\n",
       "<g id=\"a_node10\"><a xlink:title=\"→ coordinate_framework.BrainRegionAnnotation.BrainRegion\r→ coordinate_framework.CCF.Voxel\r\">\n",
       "<polygon fill=\"transparent\" stroke=\"transparent\" points=\"538.38,-90 296.38,-90 296.38,-71 538.38,-71 538.38,-90\"/>\n",
       "<text text-anchor=\"middle\" x=\"417.38\" y=\"-78\" font-family=\"arial\" font-size=\"10.00\">coordinate_framework.BrainRegionAnnotation.Voxel</text>\n",
       "</a>\n",
       "</g>\n",
       "</g>\n",
       "<!-- coordinate_framework.CCF.Voxel&#45;&gt;coordinate_framework.BrainRegionAnnotation.Voxel -->\n",
       "<g id=\"edge3\" class=\"edge\">\n",
       "<title>coordinate_framework.CCF.Voxel-&gt;coordinate_framework.BrainRegionAnnotation.Voxel</title>\n",
       "<path fill=\"none\" stroke=\"#000000\" stroke-width=\"0.75\" stroke-opacity=\"0.250980\" d=\"M390.55,-188.78C395.96,-167.18 409.91,-111.38 415.25,-90\"/>\n",
       "</g>\n",
       "<!-- electrode_localization.ProbeInsertion -->\n",
       "<g id=\"node5\" class=\"node\">\n",
       "<title>electrode_localization.ProbeInsertion</title>\n",
       "<g id=\"a_node5\"><a xlink:title=\"→ session.Session\rinsertion_number     \r------------------------------\r→ electrode_localization.probe.Probe\r\">\n",
       "<polygon fill=\"#00ff00\" fill-opacity=\"0.188235\" stroke=\"#00ff00\" stroke-opacity=\"0.188235\" points=\"251.88,-287 36.88,-287 36.88,-252 251.88,-252 251.88,-287\"/>\n",
       "<text text-anchor=\"start\" x=\"44.88\" y=\"-267.4\" font-family=\"arial\" text-decoration=\"underline\" font-size=\"12.00\" fill=\"darkgreen\">electrode_localization.ProbeInsertion</text>\n",
       "</a>\n",
       "</g>\n",
       "</g>\n",
       "<!-- electrode_localization.ElectrodePosition -->\n",
       "<g id=\"node8\" class=\"node\">\n",
       "<title>electrode_localization.ElectrodePosition</title>\n",
       "<g id=\"a_node8\"><a xlink:title=\"→ electrode_localization.ProbeInsertion\r→ coordinate_framework.CCF\r\">\n",
       "<ellipse fill=\"#00007f\" fill-opacity=\"0.250980\" stroke=\"#00007f\" stroke-opacity=\"0.250980\" cx=\"144.38\" cy=\"-198.5\" rx=\"144.25\" ry=\"17.5\"/>\n",
       "<text text-anchor=\"middle\" x=\"144.38\" y=\"-195.4\" font-family=\"arial\" font-size=\"12.00\" fill=\"#00007f\" fill-opacity=\"0.627451\">electrode_localization.ElectrodePosition</text>\n",
       "</a>\n",
       "</g>\n",
       "</g>\n",
       "<!-- electrode_localization.ProbeInsertion&#45;&gt;electrode_localization.ElectrodePosition -->\n",
       "<g id=\"edge4\" class=\"edge\">\n",
       "<title>electrode_localization.ProbeInsertion-&gt;electrode_localization.ElectrodePosition</title>\n",
       "<path fill=\"none\" stroke=\"#000000\" stroke-width=\"0.75\" stroke-opacity=\"0.250980\" d=\"M144.38,-251.8C144.38,-240.95 144.38,-226.87 144.38,-216.05\"/>\n",
       "</g>\n",
       "<!-- coordinate_framework.BrainRegionAnnotation -->\n",
       "<g id=\"node6\" class=\"node\">\n",
       "<title>coordinate_framework.BrainRegionAnnotation</title>\n",
       "<g id=\"a_node6\"><a xlink:title=\"→ coordinate_framework.CCF\r\">\n",
       "<polygon fill=\"#000000\" fill-opacity=\"0.125490\" stroke=\"transparent\" points=\"702.88,-216 487.88,-216 487.88,-181 702.88,-181 702.88,-216\"/>\n",
       "<text text-anchor=\"middle\" x=\"595.38\" y=\"-196\" font-family=\"arial\" font-size=\"10.00\">coordinate_framework.BrainRegionAnnotation</text>\n",
       "</a>\n",
       "</g>\n",
       "</g>\n",
       "<!-- coordinate_framework.BrainRegionAnnotation.BrainRegion -->\n",
       "<g id=\"node9\" class=\"node\">\n",
       "<title>coordinate_framework.BrainRegionAnnotation.BrainRegion</title>\n",
       "<g id=\"a_node9\"><a xlink:title=\"→ coordinate_framework.BrainRegionAnnotation\racronym              \r------------------------------\rregion_name          \rregion_id=null       \rcolor_code=null      \r\">\n",
       "<polygon fill=\"transparent\" stroke=\"transparent\" points=\"731.38,-145 459.38,-145 459.38,-126 731.38,-126 731.38,-145\"/>\n",
       "<text text-anchor=\"start\" x=\"467.38\" y=\"-134\" font-family=\"arial\" text-decoration=\"underline\" font-size=\"10.00\">coordinate_framework.BrainRegionAnnotation.BrainRegion</text>\n",
       "</a>\n",
       "</g>\n",
       "</g>\n",
       "<!-- coordinate_framework.BrainRegionAnnotation&#45;&gt;coordinate_framework.BrainRegionAnnotation.BrainRegion -->\n",
       "<g id=\"edge5\" class=\"edge\">\n",
       "<title>coordinate_framework.BrainRegionAnnotation-&gt;coordinate_framework.BrainRegionAnnotation.BrainRegion</title>\n",
       "<path fill=\"none\" stroke=\"#000000\" stroke-width=\"0.75\" stroke-opacity=\"0.250980\" d=\"M595.38,-180.83C595.38,-169.26 595.38,-154.32 595.38,-145.08\"/>\n",
       "</g>\n",
       "<!-- coordinate_framework.CCF -->\n",
       "<g id=\"node7\" class=\"node\">\n",
       "<title>coordinate_framework.CCF</title>\n",
       "<g id=\"a_node7\"><a xlink:title=\"ccf_id               \r------------------------------\rccf_version          \rccf_resolution       \rccf_description=&quot;&quot;   \r\">\n",
       "<polygon fill=\"#000000\" fill-opacity=\"0.125490\" stroke=\"transparent\" points=\"456.88,-287 319.88,-287 319.88,-252 456.88,-252 456.88,-287\"/>\n",
       "<text text-anchor=\"start\" x=\"327.88\" y=\"-268\" font-family=\"arial\" text-decoration=\"underline\" font-size=\"10.00\">coordinate_framework.CCF</text>\n",
       "</a>\n",
       "</g>\n",
       "</g>\n",
       "<!-- coordinate_framework.CCF&#45;&gt;coordinate_framework.CCF.Voxel -->\n",
       "<g id=\"edge6\" class=\"edge\">\n",
       "<title>coordinate_framework.CCF-&gt;coordinate_framework.CCF.Voxel</title>\n",
       "<path fill=\"none\" stroke=\"#000000\" stroke-width=\"0.75\" stroke-opacity=\"0.250980\" d=\"M388.38,-251.8C388.38,-238.08 388.38,-219.19 388.38,-208.27\"/>\n",
       "</g>\n",
       "<!-- coordinate_framework.CCF&#45;&gt;coordinate_framework.BrainRegionAnnotation -->\n",
       "<g id=\"edge7\" class=\"edge\">\n",
       "<title>coordinate_framework.CCF-&gt;coordinate_framework.BrainRegionAnnotation</title>\n",
       "<path fill=\"none\" stroke=\"#000000\" stroke-width=\"2\" stroke-opacity=\"0.250980\" d=\"M437.96,-251.97C470.61,-241.09 513.2,-226.89 545.84,-216.01\"/>\n",
       "</g>\n",
       "<!-- coordinate_framework.CCF&#45;&gt;electrode_localization.ElectrodePosition -->\n",
       "<g id=\"edge8\" class=\"edge\">\n",
       "<title>coordinate_framework.CCF-&gt;electrode_localization.ElectrodePosition</title>\n",
       "<path fill=\"none\" stroke=\"#000000\" stroke-width=\"0.75\" stroke-opacity=\"0.250980\" d=\"M329.93,-251.97C290.03,-240.69 237.55,-225.85 198.58,-214.83\"/>\n",
       "</g>\n",
       "<!-- electrode_localization.ElectrodePosition&#45;&gt;electrode_localization.ElectrodePosition.Electrode -->\n",
       "<g id=\"edge9\" class=\"edge\">\n",
       "<title>electrode_localization.ElectrodePosition-&gt;electrode_localization.ElectrodePosition.Electrode</title>\n",
       "<path fill=\"none\" stroke=\"#000000\" stroke-width=\"0.75\" stroke-opacity=\"0.250980\" d=\"M144.38,-180.83C144.38,-169.26 144.38,-154.32 144.38,-145.08\"/>\n",
       "</g>\n",
       "<!-- coordinate_framework.BrainRegionAnnotation.BrainRegion&#45;&gt;24 -->\n",
       "<g id=\"edge10\" class=\"edge\">\n",
       "<title>coordinate_framework.BrainRegionAnnotation.BrainRegion-&gt;24</title>\n",
       "<path fill=\"none\" stroke=\"#000000\" stroke-width=\"0.75\" stroke-dasharray=\"5,2\" stroke-opacity=\"0.250980\" d=\"M592.24,-125.75C587.52,-112.58 578.91,-88.58 576.84,-82.78\"/>\n",
       "</g>\n",
       "<!-- coordinate_framework.BrainRegionAnnotation.BrainRegion&#45;&gt;coordinate_framework.ParentBrainRegion -->\n",
       "<g id=\"edge11\" class=\"edge\">\n",
       "<title>coordinate_framework.BrainRegionAnnotation.BrainRegion-&gt;coordinate_framework.ParentBrainRegion</title>\n",
       "<path fill=\"none\" stroke=\"#000000\" stroke-width=\"2\" stroke-opacity=\"0.250980\" d=\"M595.3,-125.78C595.13,-106.6 594.74,-60.47 594.52,-35.4\"/>\n",
       "</g>\n",
       "<!-- coordinate_framework.BrainRegionAnnotation.BrainRegion&#45;&gt;coordinate_framework.BrainRegionAnnotation.Voxel -->\n",
       "<g id=\"edge12\" class=\"edge\">\n",
       "<title>coordinate_framework.BrainRegionAnnotation.BrainRegion-&gt;coordinate_framework.BrainRegionAnnotation.Voxel</title>\n",
       "<path fill=\"none\" stroke=\"#000000\" stroke-width=\"0.75\" stroke-opacity=\"0.250980\" d=\"M566.78,-125.98C533.66,-116.12 479.41,-99.97 446.2,-90.08\"/>\n",
       "</g>\n",
       "</g>\n",
       "</svg>"
      ],
      "text/plain": [
       "<datajoint.diagram.Diagram at 0x7feb9f1e6b20>"
      ]
     },
     "execution_count": 13,
     "metadata": {},
     "output_type": "execute_result"
    }
   ],
   "source": [
    "(\n",
    "    dj.Diagram(electrode_localization)\n",
    "    + dj.Diagram(ephys.ProbeInsertion)\n",
    "    + dj.Diagram(ccf)\n",
    ")"
   ]
  },
  {
   "cell_type": "markdown",
   "metadata": {},
   "source": [
    "### **Insert example data into subject and session tables**"
   ]
  },
  {
   "cell_type": "markdown",
   "metadata": {},
   "source": [
    "Now, let's delve into the `subject.Subject` and `session.Session` tables and include some example data."
   ]
  },
  {
   "cell_type": "code",
   "execution_count": 7,
   "metadata": {},
   "outputs": [
    {
     "data": {
      "text/html": [
       "\n",
       "    \n",
       "    <style type=\"text/css\">\n",
       "        .Table{\n",
       "            border-collapse:collapse;\n",
       "        }\n",
       "        .Table th{\n",
       "            background: #A0A0A0; color: #ffffff; padding:4px; border:#f0e0e0 1px solid;\n",
       "            font-weight: normal; font-family: monospace; font-size: 100%;\n",
       "        }\n",
       "        .Table td{\n",
       "            padding:4px; border:#f0e0e0 1px solid; font-size:100%;\n",
       "        }\n",
       "        .Table tr:nth-child(odd){\n",
       "            background: #ffffff;\n",
       "            color: #000000;\n",
       "        }\n",
       "        .Table tr:nth-child(even){\n",
       "            background: #f3f1ff;\n",
       "            color: #000000;\n",
       "        }\n",
       "        /* Tooltip container */\n",
       "        .djtooltip {\n",
       "        }\n",
       "        /* Tooltip text */\n",
       "        .djtooltip .djtooltiptext {\n",
       "            visibility: hidden;\n",
       "            width: 120px;\n",
       "            background-color: black;\n",
       "            color: #fff;\n",
       "            text-align: center;\n",
       "            padding: 5px 0;\n",
       "            border-radius: 6px;\n",
       "            /* Position the tooltip text - see examples below! */\n",
       "            position: absolute;\n",
       "            z-index: 1;\n",
       "        }\n",
       "        #primary {\n",
       "            font-weight: bold;\n",
       "            color: black;\n",
       "        }\n",
       "        #nonprimary {\n",
       "            font-weight: normal;\n",
       "            color: white;\n",
       "        }\n",
       "\n",
       "        /* Show the tooltip text when you mouse over the tooltip container */\n",
       "        .djtooltip:hover .djtooltiptext {\n",
       "            visibility: visible;\n",
       "        }\n",
       "    </style>\n",
       "    \n",
       "    <b></b>\n",
       "        <div style=\"max-height:1000px;max-width:1500px;overflow:auto;\">\n",
       "        <table border=\"1\" class=\"Table\">\n",
       "            <thead> <tr style=\"text-align: right;\"> <th> <div class=\"djtooltip\">\n",
       "                            <p id=\"primary\">subject</p>\n",
       "                            <span class=\"djtooltiptext\"></span>\n",
       "                        </div></th><th><div class=\"djtooltip\">\n",
       "                            <p id=\"nonprimary\">subject_nickname</p>\n",
       "                            <span class=\"djtooltiptext\"></span>\n",
       "                        </div></th><th><div class=\"djtooltip\">\n",
       "                            <p id=\"nonprimary\">sex</p>\n",
       "                            <span class=\"djtooltiptext\"></span>\n",
       "                        </div></th><th><div class=\"djtooltip\">\n",
       "                            <p id=\"nonprimary\">subject_birth_date</p>\n",
       "                            <span class=\"djtooltiptext\"></span>\n",
       "                        </div></th><th><div class=\"djtooltip\">\n",
       "                            <p id=\"nonprimary\">subject_description</p>\n",
       "                            <span class=\"djtooltiptext\"></span>\n",
       "                        </div> </th> </tr> </thead>\n",
       "            <tbody> <tr>  </tr> </tbody>\n",
       "        </table>\n",
       "        \n",
       "        <p>Total: 0</p></div>\n",
       "        "
      ],
      "text/plain": [
       "*subject    subject_nickna sex     subject_birth_ subject_descri\n",
       "+---------+ +------------+ +-----+ +------------+ +------------+\n",
       "\n",
       " (Total: 0)"
      ]
     },
     "execution_count": 7,
     "metadata": {},
     "output_type": "execute_result"
    }
   ],
   "source": [
    "subject.Subject()"
   ]
  },
  {
   "cell_type": "markdown",
   "metadata": {},
   "source": [
    "Add a new entry for a subject in the `Subject` table:"
   ]
  },
  {
   "cell_type": "code",
   "execution_count": 8,
   "metadata": {},
   "outputs": [],
   "source": [
    "# Subject and Session tables\n",
    "subject.Subject.insert1(\n",
    "    dict(\n",
    "        subject=\"subject6\",\n",
    "        sex=\"F\",\n",
    "        subject_birth_date=\"2020-01-01\",\n",
    "        subject_description=\"test0\",\n",
    "    ),\n",
    "    skip_duplicates=True,\n",
    ")"
   ]
  },
  {
   "cell_type": "markdown",
   "metadata": {},
   "source": [
    "Create session keys and input them into the `Session` table:"
   ]
  },
  {
   "cell_type": "code",
   "execution_count": 9,
   "metadata": {},
   "outputs": [],
   "source": [
    "# Definition of the dictionary named \"session_keys\"\n",
    "session_keys = [\n",
    "    dict(subject=\"subject6\", session_datetime=\"2021-06-02 14:04:22\"),\n",
    "    dict(subject=\"subject6\", session_datetime=\"2021-06-03 14:43:10\"),\n",
    "]\n",
    "\n",
    "# Insert this dictionary in the Session table\n",
    "session.Session.insert(session_keys, skip_duplicates=True)"
   ]
  },
  {
   "cell_type": "markdown",
   "metadata": {},
   "source": [
    "Confirm the inserted data:"
   ]
  },
  {
   "cell_type": "code",
   "execution_count": 10,
   "metadata": {},
   "outputs": [
    {
     "data": {
      "text/html": [
       "\n",
       "    \n",
       "    <style type=\"text/css\">\n",
       "        .Table{\n",
       "            border-collapse:collapse;\n",
       "        }\n",
       "        .Table th{\n",
       "            background: #A0A0A0; color: #ffffff; padding:4px; border:#f0e0e0 1px solid;\n",
       "            font-weight: normal; font-family: monospace; font-size: 100%;\n",
       "        }\n",
       "        .Table td{\n",
       "            padding:4px; border:#f0e0e0 1px solid; font-size:100%;\n",
       "        }\n",
       "        .Table tr:nth-child(odd){\n",
       "            background: #ffffff;\n",
       "            color: #000000;\n",
       "        }\n",
       "        .Table tr:nth-child(even){\n",
       "            background: #f3f1ff;\n",
       "            color: #000000;\n",
       "        }\n",
       "        /* Tooltip container */\n",
       "        .djtooltip {\n",
       "        }\n",
       "        /* Tooltip text */\n",
       "        .djtooltip .djtooltiptext {\n",
       "            visibility: hidden;\n",
       "            width: 120px;\n",
       "            background-color: black;\n",
       "            color: #fff;\n",
       "            text-align: center;\n",
       "            padding: 5px 0;\n",
       "            border-radius: 6px;\n",
       "            /* Position the tooltip text - see examples below! */\n",
       "            position: absolute;\n",
       "            z-index: 1;\n",
       "        }\n",
       "        #primary {\n",
       "            font-weight: bold;\n",
       "            color: black;\n",
       "        }\n",
       "        #nonprimary {\n",
       "            font-weight: normal;\n",
       "            color: white;\n",
       "        }\n",
       "\n",
       "        /* Show the tooltip text when you mouse over the tooltip container */\n",
       "        .djtooltip:hover .djtooltiptext {\n",
       "            visibility: visible;\n",
       "        }\n",
       "    </style>\n",
       "    \n",
       "    <b></b>\n",
       "        <div style=\"max-height:1000px;max-width:1500px;overflow:auto;\">\n",
       "        <table border=\"1\" class=\"Table\">\n",
       "            <thead> <tr style=\"text-align: right;\"> <th> <div class=\"djtooltip\">\n",
       "                            <p id=\"primary\">subject</p>\n",
       "                            <span class=\"djtooltiptext\"></span>\n",
       "                        </div></th><th><div class=\"djtooltip\">\n",
       "                            <p id=\"primary\">session_datetime</p>\n",
       "                            <span class=\"djtooltiptext\"></span>\n",
       "                        </div> </th> </tr> </thead>\n",
       "            <tbody> <tr> <td>subject6</td>\n",
       "<td>2021-06-02 14:04:22</td></tr><tr><td>subject6</td>\n",
       "<td>2021-06-03 14:43:10</td> </tr> </tbody>\n",
       "        </table>\n",
       "        \n",
       "        <p>Total: 2</p></div>\n",
       "        "
      ],
      "text/plain": [
       "*subject     *session_datet\n",
       "+----------+ +------------+\n",
       "subject6     2021-06-02 14:\n",
       "subject6     2021-06-03 14:\n",
       " (Total: 2)"
      ]
     },
     "execution_count": 10,
     "metadata": {},
     "output_type": "execute_result"
    }
   ],
   "source": [
    "session.Session()"
   ]
  },
  {
   "cell_type": "markdown",
   "metadata": {},
   "source": [
    "### **Description of the main tables**"
   ]
  },
  {
   "cell_type": "markdown",
   "metadata": {},
   "source": [
    "To know what data to insert into the table, we can view its dependencies and attributes using the `.heading` method. `heading` provides an exhaustive list of the table's attributes. This list includes both the attributes declared in this table and any inherited from upstream tables."
   ]
  },
  {
   "cell_type": "markdown",
   "metadata": {},
   "source": [
    "`ProbeInsertion` table will contain the data for probe insertion implanted into an animal for a given session. Let's insert some example data into the `ProbeInsertion` table as well:"
   ]
  },
  {
   "cell_type": "code",
   "execution_count": 14,
   "metadata": {},
   "outputs": [
    {
     "data": {
      "text/html": [
       "\n",
       "    \n",
       "    <style type=\"text/css\">\n",
       "        .Table{\n",
       "            border-collapse:collapse;\n",
       "        }\n",
       "        .Table th{\n",
       "            background: #A0A0A0; color: #ffffff; padding:4px; border:#f0e0e0 1px solid;\n",
       "            font-weight: normal; font-family: monospace; font-size: 100%;\n",
       "        }\n",
       "        .Table td{\n",
       "            padding:4px; border:#f0e0e0 1px solid; font-size:100%;\n",
       "        }\n",
       "        .Table tr:nth-child(odd){\n",
       "            background: #ffffff;\n",
       "            color: #000000;\n",
       "        }\n",
       "        .Table tr:nth-child(even){\n",
       "            background: #f3f1ff;\n",
       "            color: #000000;\n",
       "        }\n",
       "        /* Tooltip container */\n",
       "        .djtooltip {\n",
       "        }\n",
       "        /* Tooltip text */\n",
       "        .djtooltip .djtooltiptext {\n",
       "            visibility: hidden;\n",
       "            width: 120px;\n",
       "            background-color: black;\n",
       "            color: #fff;\n",
       "            text-align: center;\n",
       "            padding: 5px 0;\n",
       "            border-radius: 6px;\n",
       "            /* Position the tooltip text - see examples below! */\n",
       "            position: absolute;\n",
       "            z-index: 1;\n",
       "        }\n",
       "        #primary {\n",
       "            font-weight: bold;\n",
       "            color: black;\n",
       "        }\n",
       "        #nonprimary {\n",
       "            font-weight: normal;\n",
       "            color: white;\n",
       "        }\n",
       "\n",
       "        /* Show the tooltip text when you mouse over the tooltip container */\n",
       "        .djtooltip:hover .djtooltiptext {\n",
       "            visibility: visible;\n",
       "        }\n",
       "    </style>\n",
       "    \n",
       "    <b></b>\n",
       "        <div style=\"max-height:1000px;max-width:1500px;overflow:auto;\">\n",
       "        <table border=\"1\" class=\"Table\">\n",
       "            <thead> <tr style=\"text-align: right;\"> <th> <div class=\"djtooltip\">\n",
       "                            <p id=\"primary\">ccf_id</p>\n",
       "                            <span class=\"djtooltiptext\">CCF ID, a.k.a atlas ID</span>\n",
       "                        </div></th><th><div class=\"djtooltip\">\n",
       "                            <p id=\"primary\">acronym</p>\n",
       "                            <span class=\"djtooltiptext\">CHARACTER SET utf8 COLLATE utf8_bin</span>\n",
       "                        </div></th><th><div class=\"djtooltip\">\n",
       "                            <p id=\"nonprimary\">region_name</p>\n",
       "                            <span class=\"djtooltiptext\"></span>\n",
       "                        </div></th><th><div class=\"djtooltip\">\n",
       "                            <p id=\"nonprimary\">region_id</p>\n",
       "                            <span class=\"djtooltiptext\"></span>\n",
       "                        </div></th><th><div class=\"djtooltip\">\n",
       "                            <p id=\"nonprimary\">color_code</p>\n",
       "                            <span class=\"djtooltiptext\">Hex code of the color code of this region</span>\n",
       "                        </div> </th> </tr> </thead>\n",
       "            <tbody> <tr>  </tr> </tbody>\n",
       "        </table>\n",
       "        \n",
       "        <p>Total: 0</p></div>\n",
       "        "
      ],
      "text/plain": [
       "*ccf_id    *acronym    region_name    region_id     color_code    \n",
       "+--------+ +---------+ +------------+ +-----------+ +------------+\n",
       "\n",
       " (Total: 0)"
      ]
     },
     "execution_count": 14,
     "metadata": {},
     "output_type": "execute_result"
    }
   ],
   "source": [
    "ccf.BrainRegionAnnotation.BrainRegion()"
   ]
  },
  {
   "cell_type": "code",
   "execution_count": null,
   "metadata": {},
   "outputs": [],
   "source": [
    "central_thalamus = ccf.BrainRegionAnnotation.retrieve_acronym(\"CM\")\n",
    "cranial_nerves = ccf.BrainRegionAnnotation.retrieve_acronym(\"cm\")\n",
    "print(f\"CM: {central_thalamus}\\ncm: {cranial_nerves}\")"
   ]
  },
  {
   "cell_type": "code",
   "execution_count": 11,
   "metadata": {},
   "outputs": [
    {
     "data": {
      "text/plain": [
       "# Probe insertion implanted into an animal for a given session.\n",
       "subject              : varchar(8)                   # \n",
       "session_datetime     : datetime                     # \n",
       "insertion_number     : tinyint unsigned             # \n",
       "---\n",
       "probe                : varchar(32)                  # unique identifier for this model of probe (e.g. serial number)"
      ]
     },
     "execution_count": 11,
     "metadata": {},
     "output_type": "execute_result"
    }
   ],
   "source": [
    "electrode_localization.ProbeInsertion.heading"
   ]
  },
  {
   "cell_type": "markdown",
   "metadata": {},
   "source": [
    "`ElectrodePosition` table computes the electrode position information for a probe insertion.    "
   ]
  },
  {
   "cell_type": "code",
   "execution_count": 12,
   "metadata": {},
   "outputs": [
    {
     "data": {
      "text/plain": [
       "# \n",
       "subject              : varchar(8)                   # \n",
       "session_datetime     : datetime                     # \n",
       "insertion_number     : tinyint unsigned             # \n",
       "ccf_id               : int                          # CCF ID, a.k.a atlas ID"
      ]
     },
     "execution_count": 12,
     "metadata": {},
     "output_type": "execute_result"
    }
   ],
   "source": [
    "electrode_localization.ElectrodePosition.heading"
   ]
  },
  {
   "cell_type": "markdown",
   "metadata": {},
   "source": [
    "### Summary"
   ]
  },
  {
   "cell_type": "markdown",
   "metadata": {},
   "source": [
    "Following this tutorial, we have:\n",
    "\n",
    "- Covered the essential description of `element-electrode-localization`\n",
    "- Learned how to manually insert data into tables"
   ]
  },
  {
   "cell_type": "markdown",
   "metadata": {},
   "source": [
    "#### Documentation and DataJoint tutorials"
   ]
  },
  {
   "cell_type": "markdown",
   "metadata": {},
   "source": [
    "+ Detailed [documentation on `element-electrode-localization`](https://datajoint.com/docs/elements/element-electrode-localization/0.1/)\n",
    "+  [General `DataJoint-Python` interactive tutorials](https://github.com/datajoint/datajoint-tutorials), covering fundamentals, such as table tiers, query operations, fetch operations, automated computations with the make function, and more.\n",
    "+ [Documentation for `DataJoint-Python`](https://datajoint.com/docs/core/datajoint-python/0.14/)"
   ]
  }
 ],
 "metadata": {
  "kernelspec": {
   "display_name": "electrode-loc",
   "language": "python",
   "name": "python3"
  },
  "language_info": {
   "codemirror_mode": {
    "name": "ipython",
    "version": 3
   },
   "file_extension": ".py",
   "mimetype": "text/x-python",
   "name": "python",
   "nbconvert_exporter": "python",
   "pygments_lexer": "ipython3",
   "version": "3.9.17"
  },
  "orig_nbformat": 4
 },
 "nbformat": 4,
 "nbformat_minor": 2
}
